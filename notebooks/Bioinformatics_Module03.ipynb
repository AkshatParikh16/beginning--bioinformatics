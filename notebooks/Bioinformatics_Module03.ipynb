{
  "nbformat": 4,
  "nbformat_minor": 0,
  "metadata": {
    "colab": {
      "provenance": [],
      "authorship_tag": "ABX9TyPS67DQ3vwqld11eSYbDqwv",
      "include_colab_link": true
    },
    "kernelspec": {
      "name": "python3",
      "display_name": "Python 3"
    },
    "language_info": {
      "name": "python"
    }
  },
  "cells": [
    {
      "cell_type": "markdown",
      "metadata": {
        "id": "view-in-github",
        "colab_type": "text"
      },
      "source": [
        "<a href=\"https://colab.research.google.com/github/AkshatParikh16/beginning--bioinformatics/blob/main/notebooks/Bioinformatics_Module03.ipynb\" target=\"_parent\"><img src=\"https://colab.research.google.com/assets/colab-badge.svg\" alt=\"Open In Colab\"/></a>"
      ]
    },
    {
      "cell_type": "markdown",
      "source": [
        "P6. input ( ) gets input from the user"
      ],
      "metadata": {
        "id": "Y8azIToDyKqh"
      }
    },
    {
      "cell_type": "markdown",
      "source": [
        "TASK P6.1"
      ],
      "metadata": {
        "id": "xZl-Rh6YxlT8"
      }
    },
    {
      "cell_type": "code",
      "execution_count": 9,
      "metadata": {
        "id": "AOL6JtEpv_hY",
        "outputId": "b4832e6c-1c1a-4d2a-beac-e921b576f414",
        "colab": {
          "base_uri": "https://localhost:8080/"
        }
      },
      "outputs": [
        {
          "output_type": "stream",
          "name": "stdout",
          "text": [
            "Enter your name: \n",
            "Hello \n"
          ]
        }
      ],
      "source": [
        "name = input(\"Enter your name: \")\n",
        "print(\"Hello\", name)"
      ]
    },
    {
      "cell_type": "markdown",
      "source": [
        "TASK P6.2:\n",
        " Rosalind # 1 - Variables and Some Arithmetic"
      ],
      "metadata": {
        "id": "xKN9G8m2xNGj"
      }
    },
    {
      "cell_type": "code",
      "source": [
        "a = float(input(\"Enter side a: \"))\n",
        "b = float(input(\"Enter side b: \"))\n",
        "print(\"c^2 =\", a**2 + b**2)   # square of hypotenuse"
      ],
      "metadata": {
        "colab": {
          "base_uri": "https://localhost:8080/"
        },
        "id": "d3ZAooqmw-Tj",
        "outputId": "290fb0e3-45a8-45a2-de56-f2654980b9a8"
      },
      "execution_count": 11,
      "outputs": [
        {
          "output_type": "stream",
          "name": "stdout",
          "text": [
            "Enter side a: 984\n",
            "Enter side b: 952\n",
            "c^2 = 1874560.0\n"
          ]
        }
      ]
    },
    {
      "cell_type": "markdown",
      "source": [
        "P7. list type variables (create, replace, append)"
      ],
      "metadata": {
        "id": "s_NWq6j-yRl6"
      }
    },
    {
      "cell_type": "markdown",
      "source": [
        "TASK P7.1"
      ],
      "metadata": {
        "id": "elTL4Vb0w-JJ"
      }
    },
    {
      "cell_type": "code",
      "source": [
        "my_list = [\"Hello\", \"World\", \"Charles Darwin\"]\n",
        "print(my_list[1])"
      ],
      "metadata": {
        "colab": {
          "base_uri": "https://localhost:8080/"
        },
        "id": "3uoBL6-rx_ic",
        "outputId": "484fb996-a9fd-432d-a24c-5e26864f91d8"
      },
      "execution_count": 12,
      "outputs": [
        {
          "output_type": "stream",
          "name": "stdout",
          "text": [
            "World\n"
          ]
        }
      ]
    },
    {
      "cell_type": "markdown",
      "source": [
        "TASK P7.2"
      ],
      "metadata": {
        "id": "TGVRjVB8ympT"
      }
    },
    {
      "cell_type": "code",
      "source": [
        "my_list[2] = \"Akshat Parikh\"\n",
        "print(my_list)"
      ],
      "metadata": {
        "colab": {
          "base_uri": "https://localhost:8080/"
        },
        "id": "qyXwe1EByhHd",
        "outputId": "78fe1fdb-003c-4492-dac0-819318a61453"
      },
      "execution_count": 13,
      "outputs": [
        {
          "output_type": "stream",
          "name": "stdout",
          "text": [
            "['Hello', 'World', 'Akshat Parikh']\n"
          ]
        }
      ]
    },
    {
      "cell_type": "markdown",
      "source": [
        "TASK P7.3"
      ],
      "metadata": {
        "id": "yg9JjkJRzJ7C"
      }
    },
    {
      "cell_type": "code",
      "source": [
        "my_list.append(\"Charles Darwin\")\n",
        "print(my_list)"
      ],
      "metadata": {
        "colab": {
          "base_uri": "https://localhost:8080/"
        },
        "id": "gc34bVMGzKaB",
        "outputId": "e9076dc0-4094-4b3f-8412-bb952770874b"
      },
      "execution_count": 14,
      "outputs": [
        {
          "output_type": "stream",
          "name": "stdout",
          "text": [
            "['Hello', 'World', 'Akshat Parikh', 'Charles Darwin']\n"
          ]
        }
      ]
    },
    {
      "cell_type": "markdown",
      "source": [
        "TASK P7.4"
      ],
      "metadata": {
        "id": "dN8pvLG9y7PJ"
      }
    },
    {
      "cell_type": "code",
      "source": [
        "my_list.insert(1, \"Inserted item\")\n",
        "print(my_list)"
      ],
      "metadata": {
        "colab": {
          "base_uri": "https://localhost:8080/"
        },
        "id": "45TRnP7xyrFK",
        "outputId": "546858a4-05be-4575-f671-a29125ab38d4"
      },
      "execution_count": 15,
      "outputs": [
        {
          "output_type": "stream",
          "name": "stdout",
          "text": [
            "['Hello', 'Inserted item', 'World', 'Akshat Parikh', 'Charles Darwin']\n"
          ]
        }
      ]
    },
    {
      "cell_type": "markdown",
      "source": [
        "P8. Slicing lists and strings"
      ],
      "metadata": {
        "id": "cZla4VeV0IC4"
      }
    },
    {
      "cell_type": "markdown",
      "source": [
        "TASK P8.1"
      ],
      "metadata": {
        "id": "QBLWgmWX0MSw"
      }
    },
    {
      "cell_type": "code",
      "source": [
        "print(my_list[2:4])"
      ],
      "metadata": {
        "colab": {
          "base_uri": "https://localhost:8080/"
        },
        "id": "37Zk1IOKzEok",
        "outputId": "56f1e764-37a1-4c34-c5af-f0b900c05265"
      },
      "execution_count": 16,
      "outputs": [
        {
          "output_type": "stream",
          "name": "stdout",
          "text": [
            "['World', 'Akshat Parikh']\n"
          ]
        }
      ]
    },
    {
      "cell_type": "markdown",
      "source": [
        "TASK P8.2"
      ],
      "metadata": {
        "id": "yzPNn88j1txA"
      }
    },
    {
      "cell_type": "code",
      "source": [
        "my_string = \"HelloWorldCharlesDarwinAlfred R. Wallace\"\n",
        "# target: \"Wallace World\"\n",
        "hello_world = my_string[0:5] + \" \" + my_string[5:10]  # \"Hello World\" (just demo)\n",
        "wallace = my_string[my_string.index(\"Wallace\"): my_string.index(\"Wallace\")+7]\n",
        "world = my_string[5:10]\n",
        "print(wallace + \" \" + world)"
      ],
      "metadata": {
        "colab": {
          "base_uri": "https://localhost:8080/"
        },
        "id": "cXgmBlcN0UK2",
        "outputId": "b80a7741-9ae6-4e9d-a929-c648613291f8"
      },
      "execution_count": 17,
      "outputs": [
        {
          "output_type": "stream",
          "name": "stdout",
          "text": [
            "Wallace World\n"
          ]
        }
      ]
    },
    {
      "cell_type": "markdown",
      "source": [
        "TASK P8.3:\n",
        " Rosalind # 2: Strings and Lists"
      ],
      "metadata": {
        "id": "M-8Q1eaO1TwJ"
      }
    },
    {
      "cell_type": "code",
      "source": [
        "s = input().strip()\n",
        "a, b, c, d = map(int, input().split())\n",
        "print(s[a:b+1], s[c:d+1])"
      ],
      "metadata": {
        "colab": {
          "base_uri": "https://localhost:8080/"
        },
        "id": "jznU7aIQ1Np3",
        "outputId": "49f6b044-b289-4ebb-e1e2-1aef6741365b"
      },
      "execution_count": 19,
      "outputs": [
        {
          "output_type": "stream",
          "name": "stdout",
          "text": [
            "tN7rcRqYDM9O2zwjblZ2gzrTTJEoAfj1PcsNga2HloBl0QfiQth8E3Psalmopoeus0FYdl6RQgyvfNoSl1l0fkC40QNav7OYyvqH75PjLH2pubfR68LBvUlQU5akt8lz0FhispidaPmWQRJ6bIRbJDYpgMO78GQtHfjdR1VR5agjPME.\n",
            "54 64 130 136\n",
            "Psalmopoeus hispida\n"
          ]
        }
      ]
    },
    {
      "cell_type": "markdown",
      "source": [],
      "metadata": {
        "id": "9TwxLE7C1qf7"
      }
    },
    {
      "cell_type": "code",
      "source": [],
      "metadata": {
        "id": "nTxJopmF3joX"
      },
      "execution_count": null,
      "outputs": []
    }
  ]
}